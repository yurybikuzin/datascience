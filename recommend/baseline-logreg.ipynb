{
 "cells": [
  {
   "cell_type": "code",
   "execution_count": 12,
   "metadata": {
    "_cell_guid": "b1076dfc-b9ad-4769-8c92-a6c4dae69d19",
    "_uuid": "8f2839f25d086af736a60e9eeb907d3b93b6e0e5"
   },
   "outputs": [],
   "source": [
    "# This Python 3 environment comes with many helpful analytics libraries installed\n",
    "# It is defined by the kaggle/python Docker image: https://github.com/kaggle/docker-python\n",
    "# For example, here's several helpful packages to load\n",
    "\n",
    "import numpy as np # linear algebra\n",
    "import pandas as pd # data processing, CSV file I/O (e.g. pd.read_csv)\n",
    "\n",
    "# Input data files are available in the read-only \"../input/\" directory\n",
    "# For example, running this (by clicking run or pressing Shift+Enter) will list all files under the input directory\n",
    "# This Python 3 environment comes with many helpful analytics libraries installed\n",
    "# It is defined by the kaggle/python docker image: https://github.com/kaggle/docker-python\n",
    "# For example, here's several helpful packages to load in \n",
    "\n",
    "import numpy as np # linear algebra\n",
    "import pandas as pd # data processing, CSV file I/O (e.g. pd.read_csv)\n",
    "\n",
    "# Input data files are available in the \"../input/\" directory.\n",
    "# For example, running this (by clicking run or pressing Shift+Enter) will list all files under the input directory\n",
    "\n",
    "# Any results you write to the current directory are saved as output.\n",
    "# import os\n",
    "# for dirname, _, filenames in os.walk('/kaggle/input'):\n",
    "#     for filename in filenames:\n",
    "#         print(os.path.join(dirname, filename))\n",
    "\n",
    "# You can write up to 5GB to the current directory (/kaggle/working/) that gets preserved as output when you create a version using \"Save & Run All\" \n",
    "# You can also write temporary files to /kaggle/temp/, but they won't be saved outside of the current session"
   ]
  },
  {
   "cell_type": "code",
   "execution_count": 13,
   "metadata": {
    "_cell_guid": "79c7e3d0-c299-4dcb-8224-4455121ee9b0",
    "_uuid": "d629ff2d2480ee46fbb7e2d37f6b5fab8052498a"
   },
   "outputs": [],
   "source": [
    "train = pd.read_csv('data/train.csv', low_memory=False)\n",
    "test = pd.read_csv('data/test.csv', low_memory=False)\n",
    "submission = pd.read_csv('data/sample_submission.csv', low_memory=False)"
   ]
  },
  {
   "cell_type": "code",
   "execution_count": 14,
   "metadata": {
    "scrolled": true
   },
   "outputs": [
    {
     "name": "stdout",
     "output_type": "stream",
     "text": [
      "<class 'pandas.core.frame.DataFrame'>\n",
      "RangeIndex: 857895 entries, 0 to 857894\n",
      "Data columns (total 14 columns):\n",
      " #   Column          Non-Null Count   Dtype  \n",
      "---  ------          --------------   -----  \n",
      " 0   overall         857895 non-null  float64\n",
      " 1   verified        857895 non-null  bool   \n",
      " 2   reviewTime      857895 non-null  object \n",
      " 3   asin            857895 non-null  object \n",
      " 4   reviewerName    857719 non-null  object \n",
      " 5   reviewText      857616 non-null  object \n",
      " 6   summary         857725 non-null  object \n",
      " 7   unixReviewTime  857895 non-null  int64  \n",
      " 8   vote            118740 non-null  object \n",
      " 9   style           444406 non-null  object \n",
      " 10  image           7142 non-null    object \n",
      " 11  userid          857895 non-null  int64  \n",
      " 12  itemid          857895 non-null  int64  \n",
      " 13  rating          857895 non-null  float64\n",
      "dtypes: bool(1), float64(2), int64(3), object(8)\n",
      "memory usage: 85.9+ MB\n",
      "None\n",
      "<class 'pandas.core.frame.DataFrame'>\n",
      "RangeIndex: 285965 entries, 0 to 285964\n",
      "Data columns (total 11 columns):\n",
      " #   Column          Non-Null Count   Dtype \n",
      "---  ------          --------------   ----- \n",
      " 0   verified        285965 non-null  bool  \n",
      " 1   reviewTime      285965 non-null  object\n",
      " 2   asin            285965 non-null  object\n",
      " 3   reviewerName    285918 non-null  object\n",
      " 4   unixReviewTime  285965 non-null  int64 \n",
      " 5   vote            39462 non-null   object\n",
      " 6   style           147680 non-null  object\n",
      " 7   image           2368 non-null    object\n",
      " 8   userid          285965 non-null  int64 \n",
      " 9   itemid          285965 non-null  int64 \n",
      " 10  Id              285965 non-null  int64 \n",
      "dtypes: bool(1), int64(4), object(6)\n",
      "memory usage: 22.1+ MB\n",
      "None\n"
     ]
    }
   ],
   "source": [
    "print(train.info())\n",
    "print(test.info())"
   ]
  },
  {
   "cell_type": "code",
   "execution_count": 15,
   "metadata": {},
   "outputs": [],
   "source": [
    "def describe(df, field_name):\n",
    "    print(f\"Колонка \\\"{field_name}\\\":\")\n",
    "    print(\"------\")\n",
    "    print(\"na:\", df[field_name].isna().sum())\n",
    "    print(\"уникальных значений:\", len(df[field_name].unique()))\n",
    "    print(\"------\")\n",
    "    print(df[field_name].value_counts())  "
   ]
  },
  {
   "cell_type": "code",
   "execution_count": 16,
   "metadata": {},
   "outputs": [
    {
     "name": "stdout",
     "output_type": "stream",
     "text": [
      "Колонка \"overall\":\n",
      "------\n",
      "na: 0\n",
      "уникальных значений: 5\n",
      "------\n",
      "5.0    615196\n",
      "4.0    113094\n",
      "3.0     60440\n",
      "1.0     37498\n",
      "2.0     31667\n",
      "Name: overall, dtype: int64\n",
      "Колонка \"verified\":\n",
      "------\n",
      "na: 0\n",
      "уникальных значений: 2\n",
      "------\n",
      "True     745243\n",
      "False    112652\n",
      "Name: verified, dtype: int64\n",
      "Колонка \"reviewTime\":\n",
      "------\n",
      "na: 0\n",
      "уникальных значений: 4580\n",
      "------\n",
      "03 1, 2016     942\n",
      "07 14, 2016    885\n",
      "06 3, 2015     799\n",
      "01 20, 2016    795\n",
      "02 20, 2016    784\n",
      "              ... \n",
      "03 5, 2006       1\n",
      "04 8, 2006       1\n",
      "07 11, 2004      1\n",
      "10 29, 2005      1\n",
      "01 4, 2005       1\n",
      "Name: reviewTime, Length: 4580, dtype: int64\n",
      "Колонка \"asin\":\n",
      "------\n",
      "na: 0\n",
      "уникальных значений: 41302\n",
      "------\n",
      "B00BUKL666    5491\n",
      "B00D3M2QP4    4733\n",
      "B008QMX2SG    4654\n",
      "B00R7PWK7W    2547\n",
      "B000X3TPHS    2300\n",
      "              ... \n",
      "B00BINNY3S       1\n",
      "B00D80JUK0       1\n",
      "B00CXXCUI2       1\n",
      "B0012TCW1S       1\n",
      "B00015UEM8       1\n",
      "Name: asin, Length: 41302, dtype: int64\n",
      "Колонка \"reviewerName\":\n",
      "------\n",
      "na: 176\n",
      "уникальных значений: 101208\n",
      "------\n",
      "Amazon Customer          31726\n",
      "Kindle Customer           6228\n",
      "Linda                      734\n",
      "John                       725\n",
      "David                      619\n",
      "                         ...  \n",
      "Daytona                      1\n",
      "B.S.                         1\n",
      "a devlin                     1\n",
      "Single Minded                1\n",
      "Jami Lilo Book Author        1\n",
      "Name: reviewerName, Length: 101207, dtype: int64\n",
      "Колонка \"reviewText\":\n",
      "------\n",
      "na: 279\n",
      "уникальных значений: 686740\n",
      "------\n",
      "good                                                                                                                                                                                                                                                                                                                                                                                                                                                                                                                                                                                                                                               3144\n",
      "great                                                                                                                                                                                                                                                                                                                                                                                                                                                                                                                                                                                                                                              2612\n",
      "Great                                                                                                                                                                                                                                                                                                                                                                                                                                                                                                                                                                                                                                              2080\n",
      "Good                                                                                                                                                                                                                                                                                                                                                                                                                                                                                                                                                                                                                                               2057\n",
      "ok                                                                                                                                                                                                                                                                                                                                                                                                                                                                                                                                                                                                                                                 1334\n",
      "                                                                                                                                                                                                                                                                                                                                                                                                                                                                                                                                                                                                                                                   ... \n",
      "amazing! such a treat for zero calories!                                                                                                                                                                                                                                                                                                                                                                                                                                                                                                                                                                                                              1\n",
      "I have ordered these peanuts many times and will continue to do so. After tasting Virginia Diner Gourmet Peanuts no others will do.                                                                                                                                                                                                                                                                                                                                                                                                                                                                                                                   1\n",
      "Nice mix of almond milk and chocolate, none of which is overbearing over the other\\n\\nCompared to milk it goes down more smoothly\\n\\nNutrition wise, more calcium than regular milk\\n\\nProduct is lactose free, soy free, gluten free for those who have an allergy or intolerance\\n\\nResealable cap is a nice bonus if you do not plan to gulp it all down in one sitting\\n\\nOne serving is a bit small for a thirty adult, but a perfect size for kids in elementary school. Even if they do not finish it, they can cap the top and save it for another day or meal\\n\\nOverall very good pack in beverage for a child's lunch bag for school       1\n",
      "Great price, fast shipping, great flavor                                                                                                                                                                                                                                                                                                                                                                                                                                                                                                                                                                                                              1\n",
      "My kids love the flavor of Grove Square hot cocoa. With a little bit of whipped cream, they are happy. I usually run it in the Keurig under the first or maybe second sized cup. Going to the third size would water it down too much. I add some milk to cool it down enough so they can drink it (they're impatient). It's easy and quick, which helps when getting ready for school.                                                                                                                                                                                                                                                               1\n",
      "Name: reviewText, Length: 686739, dtype: int64\n",
      "Колонка \"summary\":\n",
      "------\n",
      "na: 170\n",
      "уникальных значений: 411452\n",
      "------\n"
     ]
    },
    {
     "name": "stdout",
     "output_type": "stream",
     "text": [
      "Five Stars                                      173850\n",
      "Four Stars                                       26878\n",
      "Three Stars                                      12033\n",
      "One Star                                          5386\n",
      "Two Stars                                         4989\n",
      "                                                 ...  \n",
      "My go to coffee.                                     1\n",
      "Very good applesauce                                 1\n",
      "We like Chinese food.                                1\n",
      "High Quality, Potent Peppercorns.                    1\n",
      "Stale! Prepare for the sour taste of regret.         1\n",
      "Name: summary, Length: 411451, dtype: int64\n",
      "Колонка \"unixReviewTime\":\n",
      "------\n",
      "na: 0\n",
      "уникальных значений: 4580\n",
      "------\n",
      "1456790400    942\n",
      "1468454400    885\n",
      "1433289600    799\n",
      "1453248000    795\n",
      "1455926400    784\n",
      "             ... \n",
      "1134086400      1\n",
      "1196812800      1\n",
      "1184025600      1\n",
      "1178150400      1\n",
      "1144454400      1\n",
      "Name: unixReviewTime, Length: 4580, dtype: int64\n",
      "Колонка \"vote\":\n",
      "------\n",
      "na: 739155\n",
      "уникальных значений: 312\n",
      "------\n",
      "2      44503\n",
      "3      22329\n",
      "4      12874\n",
      "5       8266\n",
      "6       5703\n",
      "       ...  \n",
      "167        1\n",
      "214        1\n",
      "263        1\n",
      "247        1\n",
      "203        1\n",
      "Name: vote, Length: 311, dtype: int64\n",
      "Колонка \"style\":\n",
      "------\n",
      "na: 413489\n",
      "уникальных значений: 25893\n",
      "------\n",
      "{'Size:': ' Pack of 1'}                                               5411\n",
      "{'Package Quantity:': ' 1'}                                           4632\n",
      "{'Package Type:': ' Standard Packaging'}                              4057\n",
      "{'Size:': ' 1 Pack'}                                                  3857\n",
      "{'Size:': ' 24 Count'}                                                3615\n",
      "                                                                      ... \n",
      "{'Size:': ' 11 lbs Slices'}                                              1\n",
      "{'Flavor:': ' Tutti-Frutti'}                                             1\n",
      "{'Size:': ' 2.5 Lb', 'Flavor:': ' Edamame'}                              1\n",
      "{'Size:': ' 3 Count (Pack of 5)', 'Flavor:': ' Winterfresh'}             1\n",
      "{'Size:': ' 6 Ounce Bag (Pack of 12)', 'Flavor:': ' Sweet Potato'}       1\n",
      "Name: style, Length: 25892, dtype: int64\n",
      "Колонка \"image\":\n",
      "------\n",
      "na: 850753\n",
      "уникальных значений: 6637\n",
      "------\n",
      "['https://images-na.ssl-images-amazon.com/images/I/71+Z1TA3eyL._SY88.jpg']                                                                              6\n",
      "['https://images-na.ssl-images-amazon.com/images/I/712zJIOTV5L._SY88.jpg']                                                                              6\n",
      "['https://images-na.ssl-images-amazon.com/images/I/41wx9Sn88cL._SY88.jpg']                                                                              5\n",
      "['https://images-na.ssl-images-amazon.com/images/I/81ZkT-0FJpL._SY88.jpg']                                                                              5\n",
      "['https://images-na.ssl-images-amazon.com/images/I/81h8Zc+1rzL._SY88.jpg']                                                                              5\n",
      "                                                                                                                                                       ..\n",
      "['https://images-na.ssl-images-amazon.com/images/I/71yVFX+dzCL._SY88.jpg', 'https://images-na.ssl-images-amazon.com/images/I/61+jHbaY1sL._SY88.jpg']    1\n",
      "['https://images-na.ssl-images-amazon.com/images/I/71i5XsJES0L._SY88.jpg']                                                                              1\n",
      "['https://images-na.ssl-images-amazon.com/images/I/81RTe5ijkOL._SY88.jpg']                                                                              1\n",
      "['https://images-na.ssl-images-amazon.com/images/I/71ahsHymxSL._SY88.jpg', 'https://images-na.ssl-images-amazon.com/images/I/71EG+rZQPkL._SY88.jpg']    1\n",
      "['https://images-na.ssl-images-amazon.com/images/I/71r0K5jGoSL._SY88.jpg']                                                                              1\n",
      "Name: image, Length: 6636, dtype: int64\n",
      "Колонка \"userid\":\n",
      "------\n",
      "na: 0\n",
      "уникальных значений: 127448\n",
      "------\n",
      "842       435\n",
      "17987     320\n",
      "355       304\n",
      "2024      297\n",
      "2809      279\n",
      "         ... \n",
      "64380       1\n",
      "17331       1\n",
      "65700       1\n",
      "103601      1\n",
      "41701       1\n",
      "Name: userid, Length: 127448, dtype: int64\n",
      "Колонка \"itemid\":\n",
      "------\n",
      "na: 0\n",
      "уникальных значений: 41302\n",
      "------\n",
      "22208    5491\n",
      "23540    4733\n",
      "24556    4654\n",
      "32046    2547\n",
      "5195     2300\n",
      "         ... \n",
      "41186       1\n",
      "39025       1\n",
      "5516        1\n",
      "38913       1\n",
      "37017       1\n",
      "Name: itemid, Length: 41302, dtype: int64\n",
      "Колонка \"rating\":\n",
      "------\n",
      "na: 0\n",
      "уникальных значений: 2\n",
      "------\n",
      "1.0    728290\n",
      "0.0    129605\n",
      "Name: rating, dtype: int64\n"
     ]
    }
   ],
   "source": [
    "for field_name in train.columns.tolist():\n",
    "    describe(train, field_name)"
   ]
  },
  {
   "cell_type": "code",
   "execution_count": 17,
   "metadata": {},
   "outputs": [],
   "source": [
    "import scipy.sparse as sparse\n",
    "\n",
    "from lightfm import LightFM\n",
    "from lightfm.cross_validation import random_train_test_split\n",
    "from lightfm.evaluation import auc_score, precision_at_k, recall_at_k\n",
    "import sklearn\n",
    "from sklearn.model_selection import train_test_split\n",
    "\n",
    "import scipy.sparse as sparse"
   ]
  },
  {
   "cell_type": "code",
   "execution_count": 18,
   "metadata": {},
   "outputs": [],
   "source": [
    "train_data, test_data = train_test_split(train,random_state=32, shuffle=True)\n"
   ]
  },
  {
   "cell_type": "code",
   "execution_count": 19,
   "metadata": {},
   "outputs": [
    {
     "name": "stdout",
     "output_type": "stream",
     "text": [
      "Колонка \"rating\":\n",
      "------\n",
      "na: 0\n",
      "уникальных значений: 2\n",
      "------\n",
      "1.0    546442\n",
      "0.0     96979\n",
      "Name: rating, dtype: int64\n"
     ]
    }
   ],
   "source": [
    "describe(train_data, 'rating')"
   ]
  },
  {
   "cell_type": "code",
   "execution_count": 10,
   "metadata": {},
   "outputs": [],
   "source": [
    "ratings_coo = sparse.coo_matrix((train_data['rating'].astype(int),\n",
    "                                 (train_data['userid'],\n",
    "                                  train_data['itemid'])))"
   ]
  },
  {
   "cell_type": "code",
   "execution_count": 11,
   "metadata": {},
   "outputs": [],
   "source": [
    "NUM_THREADS = 4 #число потоков\n",
    "NUM_COMPONENTS = 30 #число параметров вектора \n",
    "NUM_EPOCHS = 20 #число эпох обучения\n",
    "\n",
    "model = LightFM(learning_rate=0.1, loss='logistic',\n",
    "                no_components=NUM_COMPONENTS)\n",
    "model = model.fit(ratings_coo, epochs=NUM_EPOCHS, \n",
    "                  num_threads=NUM_THREADS)"
   ]
  },
  {
   "cell_type": "code",
   "execution_count": 12,
   "metadata": {},
   "outputs": [],
   "source": [
    "preds = model.predict(test_data.userid.values,\n",
    "                      test_data.itemid.values)\n"
   ]
  },
  {
   "cell_type": "code",
   "execution_count": 13,
   "metadata": {},
   "outputs": [
    {
     "data": {
      "text/plain": [
       "0.7447447265816308"
      ]
     },
     "execution_count": 13,
     "metadata": {},
     "output_type": "execute_result"
    }
   ],
   "source": [
    "sklearn.metrics.roc_auc_score(test_data.rating,preds)\n"
   ]
  },
  {
   "cell_type": "code",
   "execution_count": 19,
   "metadata": {},
   "outputs": [],
   "source": [
    "preds = model.predict(test.userid.values,\n",
    "                      test.itemid.values)\n"
   ]
  },
  {
   "cell_type": "code",
   "execution_count": 20,
   "metadata": {},
   "outputs": [
    {
     "data": {
      "text/plain": [
       "(-22.030139923095703, 25.601924896240234)"
      ]
     },
     "execution_count": 20,
     "metadata": {},
     "output_type": "execute_result"
    }
   ],
   "source": [
    "preds.min(), preds.max()"
   ]
  },
  {
   "cell_type": "code",
   "execution_count": 21,
   "metadata": {},
   "outputs": [],
   "source": [
    "normalized_preds = (preds - preds.min())/(preds - preds.min()).max()\n"
   ]
  },
  {
   "cell_type": "code",
   "execution_count": 22,
   "metadata": {},
   "outputs": [
    {
     "data": {
      "text/plain": [
       "(0.0, 1.0)"
      ]
     },
     "execution_count": 22,
     "metadata": {},
     "output_type": "execute_result"
    }
   ],
   "source": [
    "normalized_preds.min(), normalized_preds.max()\n"
   ]
  },
  {
   "cell_type": "code",
   "execution_count": 23,
   "metadata": {},
   "outputs": [],
   "source": [
    "submission['rating']= normalized_preds"
   ]
  },
  {
   "cell_type": "code",
   "execution_count": 24,
   "metadata": {},
   "outputs": [],
   "source": [
    "submission.to_csv('submission_log.csv', index=False)"
   ]
  },
  {
   "cell_type": "code",
   "execution_count": 10,
   "metadata": {},
   "outputs": [
    {
     "data": {
      "text/html": [
       "<div>\n",
       "<style scoped>\n",
       "    .dataframe tbody tr th:only-of-type {\n",
       "        vertical-align: middle;\n",
       "    }\n",
       "\n",
       "    .dataframe tbody tr th {\n",
       "        vertical-align: top;\n",
       "    }\n",
       "\n",
       "    .dataframe thead th {\n",
       "        text-align: right;\n",
       "    }\n",
       "</style>\n",
       "<table border=\"1\" class=\"dataframe\">\n",
       "  <thead>\n",
       "    <tr style=\"text-align: right;\">\n",
       "      <th></th>\n",
       "      <th>Id</th>\n",
       "      <th>rating</th>\n",
       "    </tr>\n",
       "  </thead>\n",
       "  <tbody>\n",
       "    <tr>\n",
       "      <th>0</th>\n",
       "      <td>0</td>\n",
       "      <td>0.282813</td>\n",
       "    </tr>\n",
       "    <tr>\n",
       "      <th>1</th>\n",
       "      <td>1</td>\n",
       "      <td>0.629758</td>\n",
       "    </tr>\n",
       "    <tr>\n",
       "      <th>2</th>\n",
       "      <td>2</td>\n",
       "      <td>0.916899</td>\n",
       "    </tr>\n",
       "    <tr>\n",
       "      <th>3</th>\n",
       "      <td>3</td>\n",
       "      <td>0.702790</td>\n",
       "    </tr>\n",
       "    <tr>\n",
       "      <th>4</th>\n",
       "      <td>4</td>\n",
       "      <td>0.043446</td>\n",
       "    </tr>\n",
       "    <tr>\n",
       "      <th>...</th>\n",
       "      <td>...</td>\n",
       "      <td>...</td>\n",
       "    </tr>\n",
       "    <tr>\n",
       "      <th>285960</th>\n",
       "      <td>285960</td>\n",
       "      <td>0.049774</td>\n",
       "    </tr>\n",
       "    <tr>\n",
       "      <th>285961</th>\n",
       "      <td>285961</td>\n",
       "      <td>0.235110</td>\n",
       "    </tr>\n",
       "    <tr>\n",
       "      <th>285962</th>\n",
       "      <td>285962</td>\n",
       "      <td>0.525945</td>\n",
       "    </tr>\n",
       "    <tr>\n",
       "      <th>285963</th>\n",
       "      <td>285963</td>\n",
       "      <td>0.259647</td>\n",
       "    </tr>\n",
       "    <tr>\n",
       "      <th>285964</th>\n",
       "      <td>285964</td>\n",
       "      <td>0.682885</td>\n",
       "    </tr>\n",
       "  </tbody>\n",
       "</table>\n",
       "<p>285965 rows × 2 columns</p>\n",
       "</div>"
      ],
      "text/plain": [
       "            Id    rating\n",
       "0            0  0.282813\n",
       "1            1  0.629758\n",
       "2            2  0.916899\n",
       "3            3  0.702790\n",
       "4            4  0.043446\n",
       "...        ...       ...\n",
       "285960  285960  0.049774\n",
       "285961  285961  0.235110\n",
       "285962  285962  0.525945\n",
       "285963  285963  0.259647\n",
       "285964  285964  0.682885\n",
       "\n",
       "[285965 rows x 2 columns]"
      ]
     },
     "execution_count": 10,
     "metadata": {},
     "output_type": "execute_result"
    }
   ],
   "source": [
    "submission"
   ]
  },
  {
   "cell_type": "code",
   "execution_count": null,
   "metadata": {},
   "outputs": [],
   "source": []
  }
 ],
 "metadata": {
  "kernelspec": {
   "display_name": "Python 3",
   "language": "python",
   "name": "python3"
  },
  "language_info": {
   "codemirror_mode": {
    "name": "ipython",
    "version": 3
   },
   "file_extension": ".py",
   "mimetype": "text/x-python",
   "name": "python",
   "nbconvert_exporter": "python",
   "pygments_lexer": "ipython3",
   "version": "3.7.6"
  }
 },
 "nbformat": 4,
 "nbformat_minor": 4
}

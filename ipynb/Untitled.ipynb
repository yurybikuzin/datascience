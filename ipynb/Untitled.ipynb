{
 "cells": [
  {
   "cell_type": "code",
   "execution_count": 5,
   "metadata": {},
   "outputs": [
    {
     "name": "stdout",
     "output_type": "stream",
     "text": [
      "<class 'pandas.core.frame.DataFrame'>\n",
      "RangeIndex: 250306 entries, 0 to 250305\n",
      "Data columns (total 34 columns):\n",
      "ticket_id                     250306 non-null int64\n",
      "agency_name                   250306 non-null object\n",
      "inspector_name                250306 non-null object\n",
      "violator_name                 250272 non-null object\n",
      "violation_street_number       250306 non-null float64\n",
      "violation_street_name         250306 non-null object\n",
      "violation_zip_code            0 non-null float64\n",
      "mailing_address_str_number    246704 non-null float64\n",
      "mailing_address_str_name      250302 non-null object\n",
      "city                          250306 non-null object\n",
      "state                         250213 non-null object\n",
      "zip_code                      250305 non-null object\n",
      "non_us_str_code               3 non-null object\n",
      "country                       250306 non-null object\n",
      "ticket_issued_date            250306 non-null object\n",
      "hearing_date                  237815 non-null object\n",
      "violation_code                250306 non-null object\n",
      "violation_description         250306 non-null object\n",
      "disposition                   250306 non-null object\n",
      "fine_amount                   250305 non-null float64\n",
      "admin_fee                     250306 non-null float64\n",
      "state_fee                     250306 non-null float64\n",
      "late_fee                      250306 non-null float64\n",
      "discount_amount               250306 non-null float64\n",
      "clean_up_cost                 250306 non-null float64\n",
      "judgment_amount               250306 non-null float64\n",
      "payment_amount                250306 non-null float64\n",
      "balance_due                   250306 non-null float64\n",
      "payment_date                  41113 non-null object\n",
      "payment_status                250306 non-null object\n",
      "collection_status             36897 non-null object\n",
      "grafitti_status               1 non-null object\n",
      "compliance_detail             250306 non-null object\n",
      "compliance                    159880 non-null float64\n",
      "dtypes: float64(13), int64(1), object(20)\n",
      "memory usage: 64.9+ MB\n"
     ]
    }
   ],
   "source": [
    "import numpy as np\n",
    "import pandas as pd\n",
    "vis_data = pd.read_csv(\"./data/train.csv\", \n",
    "                       encoding = 'ISO-8859-1', \n",
    "                       low_memory = False)\n",
    "vis_data.info()"
   ]
  },
  {
   "cell_type": "code",
   "execution_count": 48,
   "metadata": {},
   "outputs": [
    {
     "data": {
      "text/plain": [
       "-13.14733"
      ]
     },
     "execution_count": 48,
     "metadata": {},
     "output_type": "execute_result"
    }
   ],
   "source": [
    "# vis_data['balance_due']\n",
    "from sklearn.preprocessing import StandardScaler\n",
    "scaler = StandardScaler()\n",
    "round(scaler.fit_transform(vis_data[['balance_due']]).min(),5)"
   ]
  },
  {
   "cell_type": "code",
   "execution_count": 40,
   "metadata": {},
   "outputs": [
    {
     "data": {
      "text/plain": [
       "'MI'"
      ]
     },
     "execution_count": 40,
     "metadata": {},
     "output_type": "execute_result"
    }
   ],
   "source": [
    "vis_data['state'].value_counts().index[0]\n"
   ]
  },
  {
   "cell_type": "code",
   "execution_count": 41,
   "metadata": {},
   "outputs": [
    {
     "data": {
      "text/plain": [
       "MI    228694\n",
       "CA      5020\n",
       "TX      2420\n",
       "FL      2237\n",
       "IL      1310\n",
       "SC      1304\n",
       "OH       967\n",
       "NY       673\n",
       "MN       632\n",
       "GA       535\n",
       "NV       484\n",
       "UT       477\n",
       "PA       466\n",
       "NJ       395\n",
       "VA       385\n",
       "NC       353\n",
       "MD       349\n",
       "AZ       329\n",
       "ME       261\n",
       "OK       248\n",
       "AL       215\n",
       "TN       207\n",
       "WA       192\n",
       "MA       182\n",
       "IA       159\n",
       "WI       159\n",
       "OR       153\n",
       "MO       151\n",
       "CO       147\n",
       "KY       146\n",
       "IN       106\n",
       "AR        82\n",
       "LA        81\n",
       "AK        79\n",
       "UK        77\n",
       "NB        77\n",
       "MS        64\n",
       "CT        60\n",
       "DC        58\n",
       "ON        51\n",
       "DE        50\n",
       "KS        37\n",
       "RI        35\n",
       "SD        33\n",
       "ID        33\n",
       "MT        28\n",
       "NM        21\n",
       "BC        17\n",
       "WY        12\n",
       "HI        10\n",
       "NH         9\n",
       "VT         7\n",
       "WV         6\n",
       "VI         6\n",
       "QC         5\n",
       "PR         5\n",
       "QL         3\n",
       "ND         2\n",
       "BL         2\n",
       "Name: state, dtype: int64"
      ]
     },
     "execution_count": 41,
     "metadata": {},
     "output_type": "execute_result"
    }
   ],
   "source": [
    "#result = vis_data['state'].fill_na(value='MI')\n",
    "result = vis_data['state'].fillna(value=vis_data['state'].value_counts().index[0])\n",
    "result.value_counts()"
   ]
  },
  {
   "cell_type": "code",
   "execution_count": 17,
   "metadata": {},
   "outputs": [
    {
     "data": {
      "text/plain": [
       "array([ 1.00000000e+00,  2.22449058e+02,  1.25166796e-01,  4.17195810e+05,\n",
       "       -9.85531709e+00,  1.17817392e+01,  2.04200098e+09,  1.17924384e+05,\n",
       "       -1.49564074e+02,  3.07417605e+03])"
      ]
     },
     "execution_count": 17,
     "metadata": {},
     "output_type": "execute_result"
    }
   ],
   "source": [
    "from sklearn.preprocessing import PolynomialFeatures\n",
    "\n",
    "pf = PolynomialFeatures(3)\n",
    "poly_features = pf.fit_transform(vis_data[['balance_due', 'discount_amount']])\n",
    "poly_features.mean(axis=0)"
   ]
  },
  {
   "cell_type": "code",
   "execution_count": 26,
   "metadata": {},
   "outputs": [
    {
     "data": {
      "text/plain": [
       "ticket_id                     1620\n",
       "agency_name                   1620\n",
       "inspector_name                1620\n",
       "violator_name                 1620\n",
       "violation_street_number       1620\n",
       "violation_street_name         1620\n",
       "violation_zip_code               0\n",
       "mailing_address_str_number    1617\n",
       "mailing_address_str_name      1620\n",
       "city                          1620\n",
       "state                         1620\n",
       "zip_code                      1620\n",
       "non_us_str_code                  0\n",
       "country                       1620\n",
       "ticket_issued_date            1620\n",
       "hearing_date                  1586\n",
       "violation_code                1620\n",
       "violation_description         1620\n",
       "disposition                   1620\n",
       "fine_amount                   1620\n",
       "admin_fee                     1620\n",
       "state_fee                     1620\n",
       "late_fee                      1620\n",
       "discount_amount               1620\n",
       "clean_up_cost                 1620\n",
       "judgment_amount               1620\n",
       "payment_amount                1620\n",
       "balance_due                   1620\n",
       "payment_date                   278\n",
       "payment_status                1620\n",
       "collection_status              117\n",
       "grafitti_status                  0\n",
       "compliance_detail             1620\n",
       "compliance                     844\n",
       "is_weekend                    1620\n",
       "dtype: int64"
      ]
     },
     "execution_count": 26,
     "metadata": {},
     "output_type": "execute_result"
    }
   ],
   "source": [
    "# vis_data['ticket_issued_date'].dt.is_weekend()\n",
    "datetime_vals = pd.to_datetime(vis_data.ticket_issued_date.dropna())\n",
    "vis_data['is_weekend'] = datetime_vals.dt.weekday > 4\n",
    "vis_data[vis_data['is_weekend']].count()"
   ]
  }
 ],
 "metadata": {
  "kernelspec": {
   "display_name": "Python 3",
   "language": "python",
   "name": "python3"
  },
  "language_info": {
   "codemirror_mode": {
    "name": "ipython",
    "version": 3
   },
   "file_extension": ".py",
   "mimetype": "text/x-python",
   "name": "python",
   "nbconvert_exporter": "python",
   "pygments_lexer": "ipython3",
   "version": "3.7.3"
  }
 },
 "nbformat": 4,
 "nbformat_minor": 2
}

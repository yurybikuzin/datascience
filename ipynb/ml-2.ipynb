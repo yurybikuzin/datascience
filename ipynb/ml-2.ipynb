{
 "cells": [
  {
   "cell_type": "code",
   "execution_count": 63,
   "metadata": {},
   "outputs": [
    {
     "data": {
      "text/html": [
       "<div>\n",
       "<style scoped>\n",
       "    .dataframe tbody tr th:only-of-type {\n",
       "        vertical-align: middle;\n",
       "    }\n",
       "\n",
       "    .dataframe tbody tr th {\n",
       "        vertical-align: top;\n",
       "    }\n",
       "\n",
       "    .dataframe thead th {\n",
       "        text-align: right;\n",
       "    }\n",
       "</style>\n",
       "<table border=\"1\" class=\"dataframe\">\n",
       "  <thead>\n",
       "    <tr style=\"text-align: right;\">\n",
       "      <th></th>\n",
       "      <th>id</th>\n",
       "      <th>full_sq</th>\n",
       "      <th>life_sq</th>\n",
       "      <th>floor</th>\n",
       "      <th>sub_area</th>\n",
       "      <th>preschool_quota</th>\n",
       "      <th>preschool_education_centers_raion</th>\n",
       "      <th>school_quota</th>\n",
       "      <th>school_education_centers_raion</th>\n",
       "      <th>school_education_centers_top_20_raion</th>\n",
       "      <th>...</th>\n",
       "      <th>shopping_centers_km</th>\n",
       "      <th>office_km</th>\n",
       "      <th>additional_education_km</th>\n",
       "      <th>preschool_km</th>\n",
       "      <th>big_church_km</th>\n",
       "      <th>church_synagogue_km</th>\n",
       "      <th>theater_km</th>\n",
       "      <th>museum_km</th>\n",
       "      <th>ecology</th>\n",
       "      <th>price_doc</th>\n",
       "    </tr>\n",
       "  </thead>\n",
       "  <tbody>\n",
       "    <tr>\n",
       "      <th>0</th>\n",
       "      <td>1</td>\n",
       "      <td>43</td>\n",
       "      <td>27.0</td>\n",
       "      <td>4.0</td>\n",
       "      <td>Bibirevo</td>\n",
       "      <td>5001.0</td>\n",
       "      <td>5</td>\n",
       "      <td>11065.0</td>\n",
       "      <td>5</td>\n",
       "      <td>0</td>\n",
       "      <td>...</td>\n",
       "      <td>0.648488</td>\n",
       "      <td>0.637189</td>\n",
       "      <td>0.947962</td>\n",
       "      <td>0.177975</td>\n",
       "      <td>0.625783</td>\n",
       "      <td>0.628187</td>\n",
       "      <td>14.053047</td>\n",
       "      <td>7.389498</td>\n",
       "      <td>good</td>\n",
       "      <td>5850000</td>\n",
       "    </tr>\n",
       "    <tr>\n",
       "      <th>1</th>\n",
       "      <td>2</td>\n",
       "      <td>34</td>\n",
       "      <td>19.0</td>\n",
       "      <td>3.0</td>\n",
       "      <td>Nagatinskij Zaton</td>\n",
       "      <td>3119.0</td>\n",
       "      <td>5</td>\n",
       "      <td>6237.0</td>\n",
       "      <td>8</td>\n",
       "      <td>0</td>\n",
       "      <td>...</td>\n",
       "      <td>0.519311</td>\n",
       "      <td>0.688796</td>\n",
       "      <td>1.072315</td>\n",
       "      <td>0.273345</td>\n",
       "      <td>0.967821</td>\n",
       "      <td>0.471447</td>\n",
       "      <td>6.829889</td>\n",
       "      <td>0.709260</td>\n",
       "      <td>excellent</td>\n",
       "      <td>6000000</td>\n",
       "    </tr>\n",
       "    <tr>\n",
       "      <th>2</th>\n",
       "      <td>3</td>\n",
       "      <td>43</td>\n",
       "      <td>29.0</td>\n",
       "      <td>2.0</td>\n",
       "      <td>Tekstil'shhiki</td>\n",
       "      <td>1463.0</td>\n",
       "      <td>4</td>\n",
       "      <td>5580.0</td>\n",
       "      <td>7</td>\n",
       "      <td>0</td>\n",
       "      <td>...</td>\n",
       "      <td>1.486533</td>\n",
       "      <td>1.543049</td>\n",
       "      <td>0.391957</td>\n",
       "      <td>0.158072</td>\n",
       "      <td>3.178751</td>\n",
       "      <td>0.755946</td>\n",
       "      <td>4.273200</td>\n",
       "      <td>3.156423</td>\n",
       "      <td>poor</td>\n",
       "      <td>5700000</td>\n",
       "    </tr>\n",
       "    <tr>\n",
       "      <th>3</th>\n",
       "      <td>4</td>\n",
       "      <td>89</td>\n",
       "      <td>50.0</td>\n",
       "      <td>9.0</td>\n",
       "      <td>Mitino</td>\n",
       "      <td>6839.0</td>\n",
       "      <td>9</td>\n",
       "      <td>17063.0</td>\n",
       "      <td>10</td>\n",
       "      <td>0</td>\n",
       "      <td>...</td>\n",
       "      <td>0.599914</td>\n",
       "      <td>0.934273</td>\n",
       "      <td>0.892674</td>\n",
       "      <td>0.236455</td>\n",
       "      <td>1.031777</td>\n",
       "      <td>1.561505</td>\n",
       "      <td>16.990677</td>\n",
       "      <td>16.041521</td>\n",
       "      <td>good</td>\n",
       "      <td>13100000</td>\n",
       "    </tr>\n",
       "    <tr>\n",
       "      <th>4</th>\n",
       "      <td>5</td>\n",
       "      <td>77</td>\n",
       "      <td>77.0</td>\n",
       "      <td>4.0</td>\n",
       "      <td>Basmannoe</td>\n",
       "      <td>3240.0</td>\n",
       "      <td>7</td>\n",
       "      <td>7770.0</td>\n",
       "      <td>9</td>\n",
       "      <td>0</td>\n",
       "      <td>...</td>\n",
       "      <td>0.429052</td>\n",
       "      <td>0.077901</td>\n",
       "      <td>0.810801</td>\n",
       "      <td>0.376838</td>\n",
       "      <td>0.378756</td>\n",
       "      <td>0.121681</td>\n",
       "      <td>1.112486</td>\n",
       "      <td>1.800125</td>\n",
       "      <td>excellent</td>\n",
       "      <td>16331452</td>\n",
       "    </tr>\n",
       "  </tbody>\n",
       "</table>\n",
       "<p>5 rows × 56 columns</p>\n",
       "</div>"
      ],
      "text/plain": [
       "   id  full_sq  life_sq  floor           sub_area  preschool_quota  \\\n",
       "0   1       43     27.0    4.0           Bibirevo           5001.0   \n",
       "1   2       34     19.0    3.0  Nagatinskij Zaton           3119.0   \n",
       "2   3       43     29.0    2.0     Tekstil'shhiki           1463.0   \n",
       "3   4       89     50.0    9.0             Mitino           6839.0   \n",
       "4   5       77     77.0    4.0          Basmannoe           3240.0   \n",
       "\n",
       "   preschool_education_centers_raion  school_quota  \\\n",
       "0                                  5       11065.0   \n",
       "1                                  5        6237.0   \n",
       "2                                  4        5580.0   \n",
       "3                                  9       17063.0   \n",
       "4                                  7        7770.0   \n",
       "\n",
       "   school_education_centers_raion  school_education_centers_top_20_raion  ...  \\\n",
       "0                               5                                      0  ...   \n",
       "1                               8                                      0  ...   \n",
       "2                               7                                      0  ...   \n",
       "3                              10                                      0  ...   \n",
       "4                               9                                      0  ...   \n",
       "\n",
       "   shopping_centers_km  office_km  additional_education_km  preschool_km  \\\n",
       "0             0.648488   0.637189                 0.947962      0.177975   \n",
       "1             0.519311   0.688796                 1.072315      0.273345   \n",
       "2             1.486533   1.543049                 0.391957      0.158072   \n",
       "3             0.599914   0.934273                 0.892674      0.236455   \n",
       "4             0.429052   0.077901                 0.810801      0.376838   \n",
       "\n",
       "   big_church_km  church_synagogue_km  theater_km  museum_km    ecology  \\\n",
       "0       0.625783             0.628187   14.053047   7.389498       good   \n",
       "1       0.967821             0.471447    6.829889   0.709260  excellent   \n",
       "2       3.178751             0.755946    4.273200   3.156423       poor   \n",
       "3       1.031777             1.561505   16.990677  16.041521       good   \n",
       "4       0.378756             0.121681    1.112486   1.800125  excellent   \n",
       "\n",
       "   price_doc  \n",
       "0    5850000  \n",
       "1    6000000  \n",
       "2    5700000  \n",
       "3   13100000  \n",
       "4   16331452  \n",
       "\n",
       "[5 rows x 56 columns]"
      ]
     },
     "execution_count": 63,
     "metadata": {},
     "output_type": "execute_result"
    }
   ],
   "source": [
    "import numpy as np\n",
    "import pandas as pd\n",
    "data = pd.read_csv('./data/data_flats.csv',sep=\";\")\n",
    "data.head()"
   ]
  },
  {
   "cell_type": "code",
   "execution_count": 64,
   "metadata": {},
   "outputs": [
    {
     "name": "stdout",
     "output_type": "stream",
     "text": [
      "<class 'pandas.core.frame.DataFrame'>\n",
      "RangeIndex: 30469 entries, 0 to 30468\n",
      "Data columns (total 56 columns):\n",
      "id                                       30469 non-null int64\n",
      "full_sq                                  30469 non-null int64\n",
      "life_sq                                  24086 non-null float64\n",
      "floor                                    30302 non-null float64\n",
      "sub_area                                 30469 non-null object\n",
      "preschool_quota                          23781 non-null float64\n",
      "preschool_education_centers_raion        30469 non-null int64\n",
      "school_quota                             23784 non-null float64\n",
      "school_education_centers_raion           30469 non-null int64\n",
      "school_education_centers_top_20_raion    30469 non-null int64\n",
      "hospital_beds_raion                      16029 non-null float64\n",
      "healthcare_centers_raion                 30469 non-null int64\n",
      "university_top_20_raion                  30469 non-null int64\n",
      "sport_objects_raion                      30469 non-null int64\n",
      "additional_education_raion               30469 non-null int64\n",
      "culture_objects_top_25_raion             30469 non-null int64\n",
      "shopping_centers_raion                   30469 non-null int64\n",
      "office_raion                             30469 non-null int64\n",
      "metro_min_avto                           30469 non-null float64\n",
      "metro_km_avto                            30469 non-null float64\n",
      "metro_min_walk                           30444 non-null float64\n",
      "metro_km_walk                            30444 non-null float64\n",
      "kindergarten_km                          30469 non-null float64\n",
      "school_km                                30469 non-null float64\n",
      "park_km                                  30469 non-null float64\n",
      "green_zone_km                            30469 non-null float64\n",
      "industrial_km                            30469 non-null float64\n",
      "railroad_station_walk_km                 30444 non-null float64\n",
      "railroad_station_walk_min                30444 non-null float64\n",
      "public_transport_station_km              30469 non-null float64\n",
      "public_transport_station_min_walk        30469 non-null float64\n",
      "mkad_km                                  30469 non-null float64\n",
      "ttk_km                                   30469 non-null float64\n",
      "sadovoe_km                               30469 non-null float64\n",
      "bulvar_ring_km                           30469 non-null float64\n",
      "kremlin_km                               30469 non-null float64\n",
      "big_market_km                            30469 non-null float64\n",
      "market_shop_km                           30469 non-null float64\n",
      "fitness_km                               30469 non-null float64\n",
      "swim_pool_km                             30469 non-null float64\n",
      "ice_rink_km                              30469 non-null float64\n",
      "stadium_km                               30469 non-null float64\n",
      "basketball_km                            30469 non-null float64\n",
      "hospice_morgue_km                        30469 non-null float64\n",
      "university_km                            30469 non-null float64\n",
      "workplaces_km                            30469 non-null float64\n",
      "shopping_centers_km                      30469 non-null float64\n",
      "office_km                                30469 non-null float64\n",
      "additional_education_km                  30469 non-null float64\n",
      "preschool_km                             30469 non-null float64\n",
      "big_church_km                            30469 non-null float64\n",
      "church_synagogue_km                      30469 non-null float64\n",
      "theater_km                               30469 non-null float64\n",
      "museum_km                                30469 non-null float64\n",
      "ecology                                  30469 non-null object\n",
      "price_doc                                30469 non-null int64\n",
      "dtypes: float64(41), int64(13), object(2)\n",
      "memory usage: 13.0+ MB\n"
     ]
    }
   ],
   "source": [
    "data.info()"
   ]
  },
  {
   "cell_type": "code",
   "execution_count": 66,
   "metadata": {},
   "outputs": [
    {
     "data": {
      "text/plain": [
       "id                                       13652\n",
       "full_sq                                  13652\n",
       "life_sq                                  13652\n",
       "floor                                    13652\n",
       "sub_area                                 13652\n",
       "preschool_quota                          13652\n",
       "preschool_education_centers_raion        13652\n",
       "school_quota                             13652\n",
       "school_education_centers_raion           13652\n",
       "school_education_centers_top_20_raion    13652\n",
       "hospital_beds_raion                      13652\n",
       "healthcare_centers_raion                 13652\n",
       "university_top_20_raion                  13652\n",
       "sport_objects_raion                      13652\n",
       "additional_education_raion               13652\n",
       "culture_objects_top_25_raion             13652\n",
       "shopping_centers_raion                   13652\n",
       "office_raion                             13652\n",
       "metro_min_avto                           13652\n",
       "metro_km_avto                            13652\n",
       "metro_min_walk                           13652\n",
       "metro_km_walk                            13652\n",
       "kindergarten_km                          13652\n",
       "school_km                                13652\n",
       "park_km                                  13652\n",
       "green_zone_km                            13652\n",
       "industrial_km                            13652\n",
       "railroad_station_walk_km                 13652\n",
       "railroad_station_walk_min                13652\n",
       "public_transport_station_km              13652\n",
       "public_transport_station_min_walk        13652\n",
       "mkad_km                                  13652\n",
       "ttk_km                                   13652\n",
       "sadovoe_km                               13652\n",
       "bulvar_ring_km                           13652\n",
       "kremlin_km                               13652\n",
       "big_market_km                            13652\n",
       "market_shop_km                           13652\n",
       "fitness_km                               13652\n",
       "swim_pool_km                             13652\n",
       "ice_rink_km                              13652\n",
       "stadium_km                               13652\n",
       "basketball_km                            13652\n",
       "hospice_morgue_km                        13652\n",
       "university_km                            13652\n",
       "workplaces_km                            13652\n",
       "shopping_centers_km                      13652\n",
       "office_km                                13652\n",
       "additional_education_km                  13652\n",
       "preschool_km                             13652\n",
       "big_church_km                            13652\n",
       "church_synagogue_km                      13652\n",
       "theater_km                               13652\n",
       "museum_km                                13652\n",
       "ecology                                  13652\n",
       "price_doc                                13652\n",
       "dtype: int64"
      ]
     },
     "execution_count": 66,
     "metadata": {},
     "output_type": "execute_result"
    }
   ],
   "source": [
    "data.dropna().count()"
   ]
  },
  {
   "cell_type": "code",
   "execution_count": 67,
   "metadata": {},
   "outputs": [
    {
     "data": {
      "text/plain": [
       "poor            8017\n",
       "no data         7656\n",
       "good            7173\n",
       "excellent       3938\n",
       "satisfactory    3685\n",
       "Name: ecology, dtype: int64"
      ]
     },
     "execution_count": 67,
     "metadata": {},
     "output_type": "execute_result"
    }
   ],
   "source": [
    "data.ecology.value_counts()"
   ]
  },
  {
   "cell_type": "code",
   "execution_count": 74,
   "metadata": {},
   "outputs": [
    {
     "data": {
      "text/plain": [
       "0        3\n",
       "1        4\n",
       "2        1\n",
       "3        3\n",
       "4        4\n",
       "5        1\n",
       "6        1\n",
       "7        3\n",
       "8        1\n",
       "9        2\n",
       "10       3\n",
       "11       2\n",
       "12       2\n",
       "13       1\n",
       "14       1\n",
       "15       4\n",
       "16       1\n",
       "17       1\n",
       "18       3\n",
       "19       3\n",
       "20       0\n",
       "21       1\n",
       "22       2\n",
       "23       1\n",
       "24       2\n",
       "25       2\n",
       "26       3\n",
       "27       3\n",
       "28       1\n",
       "29       3\n",
       "        ..\n",
       "30439    4\n",
       "30440    0\n",
       "30441    3\n",
       "30442    3\n",
       "30443    2\n",
       "30444    0\n",
       "30445    3\n",
       "30446    0\n",
       "30447    2\n",
       "30448    3\n",
       "30449    0\n",
       "30450    2\n",
       "30451    3\n",
       "30452    1\n",
       "30453    0\n",
       "30454    3\n",
       "30455    3\n",
       "30456    0\n",
       "30457    3\n",
       "30458    3\n",
       "30459    2\n",
       "30460    2\n",
       "30461    2\n",
       "30462    1\n",
       "30463    4\n",
       "30464    3\n",
       "30465    1\n",
       "30466    0\n",
       "30467    2\n",
       "30468    1\n",
       "Name: ecology, Length: 30469, dtype: object"
      ]
     },
     "execution_count": 74,
     "metadata": {},
     "output_type": "execute_result"
    }
   ],
   "source": [
    "ecology_dict = {'no data': 0, 'poor': 1, 'satisfactory': 2, 'good': 3, 'excellent': 4}\n",
    "data.ecology = data.ecology.replace(to_replace=ecology_dict)\n",
    "data.ecology"
   ]
  },
  {
   "cell_type": "code",
   "execution_count": 83,
   "metadata": {},
   "outputs": [
    {
     "data": {
      "text/plain": [
       "1.73"
      ]
     },
     "execution_count": 83,
     "metadata": {},
     "output_type": "execute_result"
    }
   ],
   "source": [
    "round(data.ecology.mean(), 2)"
   ]
  },
  {
   "cell_type": "code",
   "execution_count": 75,
   "metadata": {},
   "outputs": [
    {
     "name": "stdout",
     "output_type": "stream",
     "text": [
      "<class 'pandas.core.frame.DataFrame'>\n",
      "RangeIndex: 30469 entries, 0 to 30468\n",
      "Data columns (total 56 columns):\n",
      "id                                       30469 non-null int64\n",
      "full_sq                                  30469 non-null int64\n",
      "life_sq                                  24086 non-null float64\n",
      "floor                                    30302 non-null float64\n",
      "sub_area                                 30469 non-null object\n",
      "preschool_quota                          23781 non-null float64\n",
      "preschool_education_centers_raion        30469 non-null int64\n",
      "school_quota                             23784 non-null float64\n",
      "school_education_centers_raion           30469 non-null int64\n",
      "school_education_centers_top_20_raion    30469 non-null int64\n",
      "hospital_beds_raion                      16029 non-null float64\n",
      "healthcare_centers_raion                 30469 non-null int64\n",
      "university_top_20_raion                  30469 non-null int64\n",
      "sport_objects_raion                      30469 non-null int64\n",
      "additional_education_raion               30469 non-null int64\n",
      "culture_objects_top_25_raion             30469 non-null int64\n",
      "shopping_centers_raion                   30469 non-null int64\n",
      "office_raion                             30469 non-null int64\n",
      "metro_min_avto                           30469 non-null float64\n",
      "metro_km_avto                            30469 non-null float64\n",
      "metro_min_walk                           30444 non-null float64\n",
      "metro_km_walk                            30444 non-null float64\n",
      "kindergarten_km                          30469 non-null float64\n",
      "school_km                                30469 non-null float64\n",
      "park_km                                  30469 non-null float64\n",
      "green_zone_km                            30469 non-null float64\n",
      "industrial_km                            30469 non-null float64\n",
      "railroad_station_walk_km                 30444 non-null float64\n",
      "railroad_station_walk_min                30444 non-null float64\n",
      "public_transport_station_km              30469 non-null float64\n",
      "public_transport_station_min_walk        30469 non-null float64\n",
      "mkad_km                                  30469 non-null float64\n",
      "ttk_km                                   30469 non-null float64\n",
      "sadovoe_km                               30469 non-null float64\n",
      "bulvar_ring_km                           30469 non-null float64\n",
      "kremlin_km                               30469 non-null float64\n",
      "big_market_km                            30469 non-null float64\n",
      "market_shop_km                           30469 non-null float64\n",
      "fitness_km                               30469 non-null float64\n",
      "swim_pool_km                             30469 non-null float64\n",
      "ice_rink_km                              30469 non-null float64\n",
      "stadium_km                               30469 non-null float64\n",
      "basketball_km                            30469 non-null float64\n",
      "hospice_morgue_km                        30469 non-null float64\n",
      "university_km                            30469 non-null float64\n",
      "workplaces_km                            30469 non-null float64\n",
      "shopping_centers_km                      30469 non-null float64\n",
      "office_km                                30469 non-null float64\n",
      "additional_education_km                  30469 non-null float64\n",
      "preschool_km                             30469 non-null float64\n",
      "big_church_km                            30469 non-null float64\n",
      "church_synagogue_km                      30469 non-null float64\n",
      "theater_km                               30469 non-null float64\n",
      "museum_km                                30469 non-null float64\n",
      "ecology                                  30469 non-null object\n",
      "price_doc                                30469 non-null int64\n",
      "dtypes: float64(41), int64(13), object(2)\n",
      "memory usage: 13.0+ MB\n"
     ]
    }
   ],
   "source": [
    "data.info()"
   ]
  },
  {
   "cell_type": "code",
   "execution_count": 112,
   "metadata": {},
   "outputs": [
    {
     "name": "stdout",
     "output_type": "stream",
     "text": [
      "<class 'pandas.core.frame.DataFrame'>\n",
      "RangeIndex: 30469 entries, 0 to 30468\n",
      "Columns: 201 entries, id to Zjuzino\n",
      "dtypes: float64(41), int64(13), object(1), uint8(146)\n",
      "memory usage: 17.0+ MB\n"
     ]
    }
   ],
   "source": [
    "dummies = pd.get_dummies(data.sub_area)\n",
    "data_with_dummies = pd.concat([data.drop('sub_area', 1), dummies], axis=1)\n",
    "data_with_dummies.info()\n"
   ]
  },
  {
   "cell_type": "code",
   "execution_count": 111,
   "metadata": {},
   "outputs": [
    {
     "data": {
      "text/plain": [
       "201"
      ]
     },
     "execution_count": 111,
     "metadata": {},
     "output_type": "execute_result"
    }
   ],
   "source": [
    "41+13+1+146"
   ]
  },
  {
   "cell_type": "code",
   "execution_count": 136,
   "metadata": {
    "scrolled": true
   },
   "outputs": [
    {
     "name": "stdout",
     "output_type": "stream",
     "text": [
      "<class 'pandas.core.frame.DataFrame'>\n",
      "RangeIndex: 250306 entries, 0 to 250305\n",
      "Data columns (total 34 columns):\n",
      "ticket_id                     250306 non-null int64\n",
      "agency_name                   250306 non-null object\n",
      "inspector_name                250306 non-null object\n",
      "violator_name                 250272 non-null object\n",
      "violation_street_number       250306 non-null float64\n",
      "violation_street_name         250306 non-null object\n",
      "violation_zip_code            0 non-null float64\n",
      "mailing_address_str_number    246704 non-null float64\n",
      "mailing_address_str_name      250302 non-null object\n",
      "city                          250306 non-null object\n",
      "state                         250213 non-null object\n",
      "zip_code                      250305 non-null object\n",
      "non_us_str_code               3 non-null object\n",
      "country                       250306 non-null object\n",
      "ticket_issued_date            250306 non-null object\n",
      "hearing_date                  237815 non-null object\n",
      "violation_code                250306 non-null object\n",
      "violation_description         250306 non-null object\n",
      "disposition                   250306 non-null object\n",
      "fine_amount                   250305 non-null float64\n",
      "admin_fee                     250306 non-null float64\n",
      "state_fee                     250306 non-null float64\n",
      "late_fee                      250306 non-null float64\n",
      "discount_amount               250306 non-null float64\n",
      "clean_up_cost                 250306 non-null float64\n",
      "judgment_amount               250306 non-null float64\n",
      "payment_amount                250306 non-null float64\n",
      "balance_due                   250306 non-null float64\n",
      "payment_date                  41113 non-null object\n",
      "payment_status                250306 non-null object\n",
      "collection_status             36897 non-null object\n",
      "grafitti_status               1 non-null object\n",
      "compliance_detail             250306 non-null object\n",
      "compliance                    159880 non-null float64\n",
      "dtypes: float64(13), int64(1), object(20)\n",
      "memory usage: 64.9+ MB\n"
     ]
    }
   ],
   "source": [
    "import numpy as np\n",
    "import pandas as pd\n",
    "vis_data = pd.read_csv(\"./data/train.csv\", \n",
    "                       encoding = 'ISO-8859-1', \n",
    "                       low_memory = False)\n",
    "vis_data.info()"
   ]
  },
  {
   "cell_type": "code",
   "execution_count": 48,
   "metadata": {},
   "outputs": [
    {
     "data": {
      "text/plain": [
       "-13.14733"
      ]
     },
     "execution_count": 48,
     "metadata": {},
     "output_type": "execute_result"
    }
   ],
   "source": [
    "# vis_data['balance_due']\n",
    "from sklearn.preprocessing import StandardScaler\n",
    "scaler = StandardScaler()\n",
    "round(scaler.fit_transform(vis_data[['balance_due']]).min(),5)"
   ]
  },
  {
   "cell_type": "code",
   "execution_count": 52,
   "metadata": {},
   "outputs": [
    {
     "data": {
      "text/plain": [
       "17.011653135633672"
      ]
     },
     "execution_count": 52,
     "metadata": {},
     "output_type": "execute_result"
    }
   ],
   "source": [
    "%matplotlib inline\n",
    "np.sqrt(vis_data.balance_due[vis_data.balance_due > 0]).hist()"
   ]
  },
  {
   "cell_type": "code",
   "execution_count": 57,
   "metadata": {},
   "outputs": [
    {
     "data": {
      "text/plain": [
       "0.4525960609393067"
      ]
     },
     "execution_count": 57,
     "metadata": {},
     "output_type": "execute_result"
    }
   ],
   "source": [
    "balance_due_sqrt = np.sqrt(vis_data.balance_due[vis_data.balance_due > 0])\n",
    "abs(balance_due_sqrt.mean() - balance_due_sqrt.median())"
   ]
  },
  {
   "cell_type": "code",
   "execution_count": 159,
   "metadata": {},
   "outputs": [
    {
     "name": "stdout",
     "output_type": "stream",
     "text": [
      "140.0 305.0\n",
      "-107.5 552.5\n"
     ]
    },
    {
     "data": {
      "text/plain": [
       "{'min': balance_due   -7750.0\n",
       " dtype: float64, 'max': balance_due    11030.0\n",
       " dtype: float64, 'max - min': balance_due    18780.0\n",
       " dtype: float64}"
      ]
     },
     "execution_count": 159,
     "metadata": {},
     "output_type": "execute_result"
    }
   ],
   "source": [
    "%matplotlib inline\n",
    "balance_due = vis_data[['balance_due']]\n",
    "balance_due.count()\n",
    "rows_to_drop = vis_data[ vis_data['balance_due'] == 0 ].index\n",
    "balance_due = balance_due.drop(rows_to_drop)\n",
    "balance_due.count()\n",
    "\n",
    "def outliers_iqr(ys):\n",
    "    quartile_1, quartile_3 = np.percentile(ys, [25, 75])\n",
    "    print(quartile_1, quartile_3)\n",
    "    iqr = quartile_3 - quartile_1\n",
    "    k = 1.5\n",
    "    lower_bound = quartile_1 - (iqr * k)\n",
    "    upper_bound = quartile_3 + (iqr * k)\n",
    "    print(lower_bound, upper_bound)\n",
    "    return np.where((ys > upper_bound) | (ys < lower_bound))[0]\n",
    "outliers_idx = outliers_iqr(balance_due)\n",
    "# balance_due.min()\n",
    "# balance_due.iloc[outliers_idx]\n",
    "# outliers_idx\n",
    "outliers = balance_due.iloc[outliers_idx]\n",
    "{'min': outliers.min(), 'max': outliers.max(), 'max - min': outliers.max() - outliers.min()}\n",
    "# .iloc(outliers_idx)\n",
    "# balance_due[outliers_idx]\n",
    "# { 'outliers': outliers, 'max': outliers.max(), 'min': outliers.min(), 'max - min': outliers.max() - outliers.min()  }\n"
   ]
  },
  {
   "cell_type": "code",
   "execution_count": 40,
   "metadata": {},
   "outputs": [
    {
     "data": {
      "text/plain": [
       "'MI'"
      ]
     },
     "execution_count": 40,
     "metadata": {},
     "output_type": "execute_result"
    }
   ],
   "source": [
    "vis_data['state'].value_counts().index[0]\n"
   ]
  },
  {
   "cell_type": "code",
   "execution_count": 41,
   "metadata": {},
   "outputs": [
    {
     "data": {
      "text/plain": [
       "MI    228694\n",
       "CA      5020\n",
       "TX      2420\n",
       "FL      2237\n",
       "IL      1310\n",
       "SC      1304\n",
       "OH       967\n",
       "NY       673\n",
       "MN       632\n",
       "GA       535\n",
       "NV       484\n",
       "UT       477\n",
       "PA       466\n",
       "NJ       395\n",
       "VA       385\n",
       "NC       353\n",
       "MD       349\n",
       "AZ       329\n",
       "ME       261\n",
       "OK       248\n",
       "AL       215\n",
       "TN       207\n",
       "WA       192\n",
       "MA       182\n",
       "IA       159\n",
       "WI       159\n",
       "OR       153\n",
       "MO       151\n",
       "CO       147\n",
       "KY       146\n",
       "IN       106\n",
       "AR        82\n",
       "LA        81\n",
       "AK        79\n",
       "UK        77\n",
       "NB        77\n",
       "MS        64\n",
       "CT        60\n",
       "DC        58\n",
       "ON        51\n",
       "DE        50\n",
       "KS        37\n",
       "RI        35\n",
       "SD        33\n",
       "ID        33\n",
       "MT        28\n",
       "NM        21\n",
       "BC        17\n",
       "WY        12\n",
       "HI        10\n",
       "NH         9\n",
       "VT         7\n",
       "WV         6\n",
       "VI         6\n",
       "QC         5\n",
       "PR         5\n",
       "QL         3\n",
       "ND         2\n",
       "BL         2\n",
       "Name: state, dtype: int64"
      ]
     },
     "execution_count": 41,
     "metadata": {},
     "output_type": "execute_result"
    }
   ],
   "source": [
    "#result = vis_data['state'].fill_na(value='MI')\n",
    "result = vis_data['state'].fillna(value=vis_data['state'].value_counts().index[0])\n",
    "result.value_counts()"
   ]
  },
  {
   "cell_type": "code",
   "execution_count": 17,
   "metadata": {},
   "outputs": [
    {
     "data": {
      "text/plain": [
       "array([ 1.00000000e+00,  2.22449058e+02,  1.25166796e-01,  4.17195810e+05,\n",
       "       -9.85531709e+00,  1.17817392e+01,  2.04200098e+09,  1.17924384e+05,\n",
       "       -1.49564074e+02,  3.07417605e+03])"
      ]
     },
     "execution_count": 17,
     "metadata": {},
     "output_type": "execute_result"
    }
   ],
   "source": [
    "from sklearn.preprocessing import PolynomialFeatures\n",
    "\n",
    "pf = PolynomialFeatures(3)\n",
    "poly_features = pf.fit_transform(vis_data[['balance_due', 'discount_amount']])\n",
    "poly_features.mean(axis=0)"
   ]
  },
  {
   "cell_type": "code",
   "execution_count": 26,
   "metadata": {},
   "outputs": [
    {
     "data": {
      "text/plain": [
       "ticket_id                     1620\n",
       "agency_name                   1620\n",
       "inspector_name                1620\n",
       "violator_name                 1620\n",
       "violation_street_number       1620\n",
       "violation_street_name         1620\n",
       "violation_zip_code               0\n",
       "mailing_address_str_number    1617\n",
       "mailing_address_str_name      1620\n",
       "city                          1620\n",
       "state                         1620\n",
       "zip_code                      1620\n",
       "non_us_str_code                  0\n",
       "country                       1620\n",
       "ticket_issued_date            1620\n",
       "hearing_date                  1586\n",
       "violation_code                1620\n",
       "violation_description         1620\n",
       "disposition                   1620\n",
       "fine_amount                   1620\n",
       "admin_fee                     1620\n",
       "state_fee                     1620\n",
       "late_fee                      1620\n",
       "discount_amount               1620\n",
       "clean_up_cost                 1620\n",
       "judgment_amount               1620\n",
       "payment_amount                1620\n",
       "balance_due                   1620\n",
       "payment_date                   278\n",
       "payment_status                1620\n",
       "collection_status              117\n",
       "grafitti_status                  0\n",
       "compliance_detail             1620\n",
       "compliance                     844\n",
       "is_weekend                    1620\n",
       "dtype: int64"
      ]
     },
     "execution_count": 26,
     "metadata": {},
     "output_type": "execute_result"
    }
   ],
   "source": [
    "# vis_data['ticket_issued_date'].dt.is_weekend()\n",
    "datetime_vals = pd.to_datetime(vis_data.ticket_issued_date.dropna())\n",
    "vis_data['is_weekend'] = datetime_vals.dt.weekday > 4\n",
    "vis_data[vis_data['is_weekend']].count()"
   ]
  },
  {
   "cell_type": "code",
   "execution_count": 165,
   "metadata": {},
   "outputs": [
    {
     "data": {
      "text/plain": [
       "[<matplotlib.lines.Line2D at 0x11ff7ee10>]"
      ]
     },
     "execution_count": 165,
     "metadata": {},
     "output_type": "execute_result"
    },
    {
     "data": {
      "image/png": "[encoded data removed]",
      "text/plain": [
       "<Figure size 432x288 with 1 Axes>"
      ]
     },
     "metadata": {
      "needs_background": "light"
     },
     "output_type": "display_data"
    }
   ],
   "source": [
    "%matplotlib inline\n",
    "import pandas as pd\n",
    "import numpy as np\n",
    "import matplotlib.pyplot as plt\n",
    "myData = pd.read_csv('./data/mycar.csv')\n",
    "X = myData.iloc[:,:-1].values\n",
    "Y = myData.iloc[:,1].values\n",
    "# myData.head()\n",
    "plt.plot(X, Y)"
   ]
  },
  {
   "cell_type": "code",
   "execution_count": 173,
   "metadata": {},
   "outputs": [
    {
     "data": {
      "text/plain": [
       "189.70247708807722"
      ]
     },
     "execution_count": 173,
     "metadata": {},
     "output_type": "execute_result"
    }
   ],
   "source": [
    "from sklearn.model_selection import train_test_split\n",
    "X_train, X_test, Y_train, Y_test = train_test_split(X, Y, test_size= 0.3)\n",
    "from sklearn.linear_model import LinearRegression\n",
    "myModel = LinearRegression() #Обозначаем, что наша модель - линейная регрессия\n",
    "myModel.fit(X_train,Y_train) #обучаем модель на обучающих данных\n",
    "y_pred = myModel.predict(X_test)\n",
    "from sklearn import metrics \n",
    "MSE = metrics.mean_squared_error(Y_test, y_pred)\n",
    "MSE\n"
   ]
  },
  {
   "cell_type": "code",
   "execution_count": 174,
   "metadata": {},
   "outputs": [
    {
     "data": {
      "text/plain": [
       "0.6658965093475164"
      ]
     },
     "execution_count": 174,
     "metadata": {},
     "output_type": "execute_result"
    }
   ],
   "source": [
    "R_2 = metrics.r2_score(Y_test, y_pred)\n",
    "R_2"
   ]
  },
  {
   "cell_type": "code",
   "execution_count": 179,
   "metadata": {},
   "outputs": [
    {
     "data": {
      "text/plain": [
       "[2.75, 0.2142857142857143]"
      ]
     },
     "execution_count": 179,
     "metadata": {},
     "output_type": "execute_result"
    }
   ],
   "source": [
    "pred = [1, 3, 2, 5]\n",
    "test = [2, 3, -1, 4]\n",
    "MSE = metrics.mean_squared_error(test, pred)\n",
    "R_2 = metrics.r2_score(test, pred)\n",
    "[MSE, R_2]"
   ]
  }
 ],
 "metadata": {
  "kernelspec": {
   "display_name": "Python 3",
   "language": "python",
   "name": "python3"
  },
  "language_info": {
   "codemirror_mode": {
    "name": "ipython",
    "version": 3
   },
   "file_extension": ".py",
   "mimetype": "text/x-python",
   "name": "python",
   "nbconvert_exporter": "python",
   "pygments_lexer": "ipython3",
   "version": "3.7.3"
  }
 },
 "nbformat": 4,
 "nbformat_minor": 2
}

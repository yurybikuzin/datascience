{
 "cells": [
  {
   "cell_type": "code",
   "execution_count": null,
   "metadata": {},
   "outputs": [],
   "source": [
    "dict_bodyType= {\n",
    "    'седан': 1,\n",
    "    'внедорожник': 2,\n",
    "    'хэтчбек': 3,\n",
    "    'минивэн': 4,\n",
    "    'универсал': 5,\n",
    "    'фургон': 6,\n",
    "    'купе': 7,\n",
    "    'пикап': 8,\n",
    "    'микроавтобус' : 9,\n",
    "    'кабриолет' : 10,\n",
    "    'лифтбек' : 11,\n",
    "    'родстер' : 12\n",
    "}"
   ]
  },
  {
   "cell_type": "code",
   "execution_count": null,
   "metadata": {},
   "outputs": [],
   "source": [
    "dict_wheel = {\"Левый\": 1, \"Правый\": 2}\n",
    "train[field_name] = train[field_name].map(dict_wheel)"
   ]
  },
  {
   "cell_type": "code",
   "execution_count": null,
   "metadata": {},
   "outputs": [],
   "source": [
    "def apply_label_encoding(df, field_name):\n",
    "    LE = LabelEncoder()\n",
    "    LE.fit(df[field_name])\n",
    "    temp_field_name = 'label_encoding_temp_field'   \n",
    "    test[temp_field_name] = LE.transform(df[field_name])\n",
    "    test.drop([field_name],axis = 1, inplace = True)\n",
    "    df[field_name] = df[temp_field_name]\n",
    "    test.drop([temp_field_name],axis = 1, inplace = True)\n",
    "    print(df[field_name].value_counts())"
   ]
  },
  {
   "cell_type": "code",
   "execution_count": 2,
   "metadata": {
    "scrolled": true
   },
   "outputs": [
    {
     "name": "stdout",
     "output_type": "stream",
     "text": [
      "<class 'pandas.core.frame.DataFrame'>\n",
      "RangeIndex: 60028 entries, 0 to 60027\n",
      "Data columns (total 77 columns):\n",
      " #   Column                                Non-Null Count  Dtype  \n",
      "---  ------                                --------------  -----  \n",
      " 0   bodyType                              59979 non-null  object \n",
      " 1   brand                                 59979 non-null  object \n",
      " 2   color                                 60028 non-null  object \n",
      " 3   fuelType                              59979 non-null  object \n",
      " 4   name                                  59979 non-null  object \n",
      " 5   title                                 0 non-null      float64\n",
      " 6   numberOfDoors                         59977 non-null  float64\n",
      " 7   productionDate                        60024 non-null  float64\n",
      " 8   vehicleTransmission                   59979 non-null  object \n",
      " 9   engineDisplacement                    59682 non-null  object \n",
      " 10  enginePower                           60012 non-null  object \n",
      " 11  description                           60028 non-null  object \n",
      " 12  mileage                               60028 non-null  int64  \n",
      " 13  Привод                                59979 non-null  object \n",
      " 14  Руль                                  59908 non-null  object \n",
      " 15  Состояние                             60028 non-null  object \n",
      " 16  Владельцы                             60028 non-null  object \n",
      " 17  Электростеклоподъемники               8039 non-null   object \n",
      " 18  Усилитель руля                        8299 non-null   object \n",
      " 19  Аудиосистема                          5143 non-null   object \n",
      " 20  Фары                                  1273 non-null   object \n",
      " 21  Климат-контроль                       4561 non-null   object \n",
      " 22  Салон                                 3338 non-null   object \n",
      " 23  Диски                                 6933 non-null   object \n",
      " 24  autoCatalogUrl                        59311 non-null  object \n",
      " 25  itemPrice                             60028 non-null  int64  \n",
      " 26  marketPrice                           25662 non-null  float64\n",
      " 27  status                                628 non-null    object \n",
      " 28  closingReason                         628 non-null    object \n",
      " 29  complectation                         27859 non-null  object \n",
      " 30  modification                          30924 non-null  object \n",
      " 31  generation                            30924 non-null  object \n",
      " 32  typeOfTrade                           60028 non-null  object \n",
      " 33  canonicalUrl                          60028 non-null  object \n",
      " 34  autocatalogId                         59248 non-null  float64\n",
      " 35  autocatalogTitle                      59248 non-null  object \n",
      " 36  autocatalogTransmission               59220 non-null  object \n",
      " 37  autocatalogEngineDisplacement         59220 non-null  float64\n",
      " 38  autocatalogEngineDisplacementPrecise  59215 non-null  float64\n",
      " 39  autocatalogDrive                      59220 non-null  object \n",
      " 40  autocatalogFuelType                   59220 non-null  object \n",
      " 41  autocatalogEnginePower                59220 non-null  float64\n",
      " 42  autocatalogMaximumSpeed               49844 non-null  float64\n",
      " 43  autocatalogAcceleration               48200 non-null  object \n",
      " 44  autocatalogBrandCountry               59178 non-null  object \n",
      " 45  autocatalogAssemblyCountry            22992 non-null  object \n",
      " 46  autocatalogNumberOfSeats              52179 non-null  object \n",
      " 47  autocatalogRating                     9768 non-null   object \n",
      " 48  autocatalogNumberOfCylinders          52117 non-null  object \n",
      " 49  autocatalogConfiguration              52104 non-null  object \n",
      " 50  autocatalogTorque                     51854 non-null  object \n",
      " 51  autocatalogTorqueMax                  51538 non-null  object \n",
      " 52  autocatalogMaxPowerSpeed              51693 non-null  object \n",
      " 53  autocatalogHeight                     52055 non-null  float64\n",
      " 54  autocatalogLength                     52082 non-null  float64\n",
      " 55  autocatalogTurningDiameter            2955 non-null   float64\n",
      " 56  autocatalogClearance                  48891 non-null  object \n",
      " 57  autocatalogWheelbase                  52072 non-null  float64\n",
      " 58  autocatalogRearTrack                  32871 non-null  float64\n",
      " 59  autocatalogFrontTrack                 32876 non-null  float64\n",
      " 60  autocatalogTrunkVolume                47636 non-null  object \n",
      " 61  autocatalogFuelTankCapacity           51807 non-null  float64\n",
      " 62  autocatalogFuelConsumptionCity        46951 non-null  float64\n",
      " 63  autocatalogFuelConsumptionHighway     46512 non-null  object \n",
      " 64  autocatalogFuelConsumptionMixed       45427 non-null  object \n",
      " 65  autocatalogEnvironmentalClass         30415 non-null  object \n",
      " 66  autocatalogRearBreaks                 52023 non-null  object \n",
      " 67  autocatalogFrontBreaks                52184 non-null  object \n",
      " 68  autocatalogRearTireDimension          50514 non-null  object \n",
      " 69  autocatalogFrontTireDimension         50520 non-null  object \n",
      " 70  autocatalogRearSuspension             22793 non-null  object \n",
      " 71  autocatalogFrontSuspension            22723 non-null  object \n",
      " 72  autocatalogWorldPremier               3987 non-null   object \n",
      " 73  autocatalogPendingUpdate              3943 non-null   object \n",
      " 74  autocatalogWidthWithMirrors           1492 non-null   float64\n",
      " 75  autocatalogRearDiscDimension          2351 non-null   object \n",
      " 76  autocatalogFrontDiscDimension         2355 non-null   object \n",
      "dtypes: float64(18), int64(2), object(57)\n",
      "memory usage: 35.3+ MB\n"
     ]
    }
   ],
   "source": [
    "import pandas as pd # data processing, CSV file I/O (e.g. pd.read_csv)\n",
    "is_debug = False\n",
    "if not is_debug:\n",
    "    # train_dataset_url=\"https://drive.google.com/u/0/uc?id=1HFV1106xXhrnNt5wG1nXl0X-b5Jql2Md&export=download\"\n",
    "    train_dataset_url=\"https://drive.google.com/u/0/uc?id=1MaX59-keo_h4TEGKwW-HO7Ehh_O2wVwu&export=download\"\n",
    "    train_orig = pd.read_csv(train_dataset_url, low_memory = False)\n",
    "train = train_orig.copy()\n",
    "train.info()"
   ]
  },
  {
   "cell_type": "code",
   "execution_count": 11,
   "metadata": {},
   "outputs": [
    {
     "name": "stdout",
     "output_type": "stream",
     "text": [
      "Колонка \"complectation\":\n",
      "------\n",
      "na: 32169\n",
      "уникальных значений: 761\n",
      "------\n",
      "Базовая                 14835\n",
      "Comfort                  1195\n",
      "Base                     1112\n",
      "Luxe                      448\n",
      "Elegance                  398\n",
      "                        ...  \n",
      "Super V8                    1\n",
      "Футбольный                  1\n",
      "2LT                         1\n",
      "HL1                         1\n",
      "High-Tech + Advanced        1\n",
      "Name: complectation, Length: 760, dtype: int64\n"
     ]
    }
   ],
   "source": [
    "describe(train, 'complectation')"
   ]
  },
  {
   "cell_type": "code",
   "execution_count": 10,
   "metadata": {},
   "outputs": [
    {
     "name": "stdout",
     "output_type": "stream",
     "text": [
      "Колонка \"autocatalogWorldPremier\":\n",
      "------\n",
      "na: 56041\n",
      "уникальных значений: 80\n",
      "------\n",
      "09-2015    399\n",
      "10-2016    343\n",
      "08-2012    260\n",
      "08-2014    219\n",
      "03-2018    192\n",
      "          ... \n",
      "02-2015      1\n",
      "12-2011      1\n",
      "2017         1\n",
      "07-2016      1\n",
      "12-2016      1\n",
      "Name: autocatalogWorldPremier, Length: 79, dtype: int64\n"
     ]
    }
   ],
   "source": [
    "describe(train, 'autocatalogWorldPremier')"
   ]
  },
  {
   "cell_type": "code",
   "execution_count": 4,
   "metadata": {},
   "outputs": [],
   "source": [
    "def describe(df, field_name):\n",
    "    print(f\"Колонка \\\"{field_name}\\\":\")\n",
    "    print(\"------\")\n",
    "    print(\"na:\", df[field_name].isna().sum())\n",
    "    print(\"уникальных значений:\", len(df[field_name].unique()))\n",
    "    print(\"------\")\n",
    "    print(df[field_name].value_counts())  "
   ]
  },
  {
   "cell_type": "code",
   "execution_count": 5,
   "metadata": {},
   "outputs": [
    {
     "name": "stdout",
     "output_type": "stream",
     "text": [
      "Колонка \"productionDate\":\n",
      "------\n",
      "na: 4\n",
      "уникальных значений: 76\n",
      "------\n",
      "2008.0    5294\n",
      "2012.0    4629\n",
      "2011.0    4544\n",
      "2007.0    4216\n",
      "2013.0    4003\n",
      "          ... \n",
      "1944.0       1\n",
      "1943.0       1\n",
      "1940.0       1\n",
      "1938.0       1\n",
      "1937.0       1\n",
      "Name: productionDate, Length: 75, dtype: int64\n"
     ]
    }
   ],
   "source": [
    "field_name = 'productionDate'\n",
    "describe(train, field_name)"
   ]
  },
  {
   "cell_type": "code",
   "execution_count": 7,
   "metadata": {},
   "outputs": [
    {
     "data": {
      "text/plain": [
       "[1937.0,\n",
       " 1938.0,\n",
       " 1940.0,\n",
       " 1943.0,\n",
       " 1944.0,\n",
       " 1948.0,\n",
       " 1949.0,\n",
       " 1953.0,\n",
       " 1954.0,\n",
       " 1955.0,\n",
       " 1956.0,\n",
       " 1957.0,\n",
       " 1958.0,\n",
       " 1959.0,\n",
       " 1960.0,\n",
       " 1961.0,\n",
       " 1962.0,\n",
       " 1963.0,\n",
       " 1964.0,\n",
       " 1965.0,\n",
       " 1966.0,\n",
       " 1967.0,\n",
       " 1968.0,\n",
       " 1969.0,\n",
       " 1970.0,\n",
       " 1971.0,\n",
       " 1972.0,\n",
       " 1973.0,\n",
       " 1974.0,\n",
       " 1975.0,\n",
       " 1976.0,\n",
       " 1977.0,\n",
       " 1978.0,\n",
       " 1979.0,\n",
       " 1980.0,\n",
       " 1981.0,\n",
       " 1982.0,\n",
       " 1983.0,\n",
       " 1984.0,\n",
       " 1985.0,\n",
       " 1986.0,\n",
       " 1987.0,\n",
       " 1988.0,\n",
       " 1989.0,\n",
       " 1990.0,\n",
       " 1991.0,\n",
       " 1992.0,\n",
       " 1993.0,\n",
       " 1994.0,\n",
       " 1995.0,\n",
       " 1996.0,\n",
       " 1997.0,\n",
       " 1998.0,\n",
       " 1999.0,\n",
       " 2000.0,\n",
       " 2001.0,\n",
       " 2002.0,\n",
       " 2003.0,\n",
       " 2004.0,\n",
       " 2005.0,\n",
       " 2006.0,\n",
       " 2007.0,\n",
       " 2008.0,\n",
       " 2009.0,\n",
       " 2010.0,\n",
       " 2011.0,\n",
       " 2012.0,\n",
       " 2013.0,\n",
       " 2014.0,\n",
       " 2015.0,\n",
       " 2016.0,\n",
       " 2017.0,\n",
       " 2018.0,\n",
       " 2019.0,\n",
       " 2020.0,\n",
       " nan]"
      ]
     },
     "execution_count": 7,
     "metadata": {},
     "output_type": "execute_result"
    }
   ],
   "source": [
    "sorted(train[field_name].unique().tolist())"
   ]
  },
  {
   "cell_type": "code",
   "execution_count": 9,
   "metadata": {},
   "outputs": [
    {
     "name": "stdout",
     "output_type": "stream",
     "text": [
      "Колонка \"name\":\n",
      "------\n",
      "na: 49\n",
      "уникальных значений: 1466\n",
      "------\n",
      "Focus        1640\n",
      "Solaris      1120\n",
      "Rio          1016\n",
      "Octavia       914\n",
      "5 серия       865\n",
      "             ... \n",
      "4200 GT         1\n",
      "Succeed         1\n",
      "EK Custom       1\n",
      "Raeton          1\n",
      "i               1\n",
      "Name: name, Length: 1465, dtype: int64\n"
     ]
    }
   ],
   "source": [
    "field_name = 'name'\n",
    "describe(train, field_name)"
   ]
  },
  {
   "cell_type": "code",
   "execution_count": null,
   "metadata": {},
   "outputs": [],
   "source": []
  }
 ],
 "metadata": {
  "kernelspec": {
   "display_name": "Python 3",
   "language": "python",
   "name": "python3"
  },
  "language_info": {
   "codemirror_mode": {
    "name": "ipython",
    "version": 3
   },
   "file_extension": ".py",
   "mimetype": "text/x-python",
   "name": "python",
   "nbconvert_exporter": "python",
   "pygments_lexer": "ipython3",
   "version": "3.7.6"
  }
 },
 "nbformat": 4,
 "nbformat_minor": 4
}
